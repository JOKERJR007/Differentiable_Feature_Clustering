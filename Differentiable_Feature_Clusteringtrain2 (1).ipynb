{
 "cells": [
  {
   "cell_type": "markdown",
   "metadata": {
    "id": "RlayJYmxffyP"
   },
   "source": [
    "# Import the necessary libraries"
   ]
  },
  {
   "cell_type": "code",
   "execution_count": 1,
   "metadata": {},
   "outputs": [
    {
     "name": "stdout",
     "output_type": "stream",
     "text": [
      "Requirement already satisfied: opencv-python in /home/admin1/anaconda3/envs/joel_pt/lib/python3.11/site-packages (4.8.1.78)\n",
      "Requirement already satisfied: numpy>=1.21.2 in /home/admin1/anaconda3/envs/joel_pt/lib/python3.11/site-packages (from opencv-python) (1.26.0)\n"
     ]
    }
   ],
   "source": [
    "!pip install opencv-python"
   ]
  },
  {
   "cell_type": "code",
   "execution_count": 2,
   "metadata": {
    "id": "DLLQkTvMffyV",
    "tags": []
   },
   "outputs": [],
   "source": [
    "import torch\n",
    "import torch.nn as nn\n",
    "import torch.nn.functional as F\n",
    "import torch.optim as optim\n",
    "import cv2\n",
    "import os\n",
    "import numpy as np\n",
    "import torch.nn.init\n",
    "import glob\n",
    "import datetime\n",
    "import tqdm\n",
    "import yaml\n",
    "import matplotlib.pyplot as plt\n",
    "from torch.autograd import Variable\n",
    "from sklearn.model_selection import GridSearchCV\n"
   ]
  },
  {
   "cell_type": "code",
   "execution_count": 3,
   "metadata": {
    "colab": {
     "base_uri": "https://localhost:8080/"
    },
    "id": "Dh-lMSDffwv4",
    "outputId": "171110a7-9c30-456a-8ed3-ba27c3a8720e"
   },
   "outputs": [],
   "source": [
    "#from google.colab import drive\n",
    "#drive.mount('/content/drive')"
   ]
  },
  {
   "cell_type": "code",
   "execution_count": 4,
   "metadata": {},
   "outputs": [
    {
     "name": "stdout",
     "output_type": "stream",
     "text": [
      "Current Working Directory: /home/admin1/student1/Joel\n"
     ]
    }
   ],
   "source": [
    "import os\n",
    "current_directory = os.getcwd()\n",
    "print(\"Current Working Directory:\", current_directory)"
   ]
  },
  {
   "cell_type": "markdown",
   "metadata": {
    "id": "2FwOjrAbffyY"
   },
   "source": [
    "# Load the config"
   ]
  },
  {
   "cell_type": "code",
   "execution_count": 5,
   "metadata": {
    "id": "CBLxzJh-ffyY"
   },
   "outputs": [],
   "source": [
    "class Config(dict):\n",
    "    __getattr__ = dict.__getitem__"
   ]
  },
  {
   "cell_type": "code",
   "execution_count": 6,
   "metadata": {
    "colab": {
     "base_uri": "https://localhost:8080/"
    },
    "id": "kpMAOFPaffyZ",
    "outputId": "a8daa9de-d1aa-4bd9-bd5e-5a71f6c0d206"
   },
   "outputs": [
    {
     "name": "stdout",
     "output_type": "stream",
     "text": [
      "{'nChannel': 8, 'nConv': 2, 'epoch': 50, 'maxUpdate': 10, 'batch_size': 64, 'lr': 0.0001, 'minLabels': 8, 'stepsize_sim': 1, 'stepsize_con': 5, 'imsize': [224, 224], 'input': '/home/admin1/student1/Joel/dataset', 'model_safename': 'testmodel', 'model_load_path': '/home/admin1/student1/Joel/dataset/testmodel.pth', 'mode': 'test_dataset'}\n",
      "/home/admin1/student1/Joel/dataset\n"
     ]
    }
   ],
   "source": [
    "# Define the path to your file in Google Drive\n",
    "file_path = '/home/admin1/student1/Joel/segm_config (2).yaml'\n",
    "\n",
    "# Open the file\n",
    "with open(file_path, 'r') as f:\n",
    "    args_dict = yaml.safe_load(f)\n",
    "\n",
    "args = Config(args_dict)\n",
    "\n",
    "print(args)\n",
    "print(args.input)"
   ]
  },
  {
   "cell_type": "markdown",
   "metadata": {
    "id": "NfrD0Y5iffyZ"
   },
   "source": [
    "# Define the class for the model"
   ]
  },
  {
   "cell_type": "code",
   "execution_count": 7,
   "metadata": {
    "id": "N12AEcrFffyZ"
   },
   "outputs": [],
   "source": [
    "class MyNet(nn.Module):\n",
    "    def __init__(self,input_dim):\n",
    "        super(MyNet, self).__init__()\n",
    "        self.conv1 = nn.Conv2d(input_dim, args.nChannel, kernel_size=3, stride=1, padding=1 )\n",
    "        self.bn1 = nn.BatchNorm2d(args.nChannel)\n",
    "        self.conv2 = nn.ModuleList()\n",
    "        self.bn2 = nn.ModuleList()\n",
    "        for i in range(args.nConv-1):\n",
    "            self.conv2.append( nn.Conv2d(args.nChannel, args.nChannel, kernel_size=3, stride=1, padding=1 ) )\n",
    "            self.bn2.append( nn.BatchNorm2d(args.nChannel) )\n",
    "        self.conv3 = nn.Conv2d(args.nChannel, args.nChannel, kernel_size=1, stride=1, padding=0 )\n",
    "        self.bn3 = nn.BatchNorm2d(args.nChannel)\n",
    "\n",
    "    def forward(self, x):\n",
    "        x = self.conv1(x)\n",
    "        x = F.relu( x )\n",
    "        x = self.bn1(x)\n",
    "        for i in range(args.nConv-1):\n",
    "            x = self.conv2[i](x)\n",
    "            x = F.relu( x )\n",
    "            x = self.bn2[i](x)\n",
    "        x = self.conv3(x)\n",
    "        x = self.bn3(x)\n",
    "        return x"
   ]
  },
  {
   "cell_type": "markdown",
   "metadata": {
    "id": "d_WrcuHZffya"
   },
   "source": [
    "# Check if Cuda is used"
   ]
  },
  {
   "cell_type": "code",
   "execution_count": 8,
   "metadata": {
    "colab": {
     "base_uri": "https://localhost:8080/"
    },
    "id": "PQIeH-SGffya",
    "outputId": "374055ad-4ed0-4087-b2f8-dcca512d1394"
   },
   "outputs": [
    {
     "name": "stdout",
     "output_type": "stream",
     "text": [
      "Using CPU\n"
     ]
    },
    {
     "name": "stderr",
     "output_type": "stream",
     "text": [
      "/home/admin1/anaconda3/envs/joel_pt/lib/python3.11/site-packages/torch/cuda/__init__.py:138: UserWarning: CUDA initialization: CUDA unknown error - this may be due to an incorrectly set up environment, e.g. changing env variable CUDA_VISIBLE_DEVICES after program start. Setting the available devices to be zero. (Triggered internally at /opt/conda/conda-bld/pytorch_1695392026823/work/c10/cuda/CUDAFunctions.cpp:108.)\n",
      "  return torch._C._cuda_getDeviceCount() > 0\n"
     ]
    }
   ],
   "source": [
    "use_cuda = torch.cuda.is_available() # check if GPU is available, if yes use it\n",
    "\n",
    "if use_cuda:\n",
    "    print('Using GPU')\n",
    "else:\n",
    "    print('Using CPU')"
   ]
  },
  {
   "cell_type": "markdown",
   "metadata": {
    "id": "2tT4arQ3ffya"
   },
   "source": [
    "# List with all train images"
   ]
  },
  {
   "cell_type": "code",
   "execution_count": 9,
   "metadata": {
    "scrolled": true
   },
   "outputs": [],
   "source": [
    "import os\n",
    "files = os.listdir(args.input + '/train/')"
   ]
  },
  {
   "cell_type": "code",
   "execution_count": 10,
   "metadata": {
    "colab": {
     "base_uri": "https://localhost:8080/"
    },
    "id": "kGSwNpuFffya",
    "outputId": "93a2d686-f5a0-418f-cc21-0811a2413249"
   },
   "outputs": [
    {
     "name": "stdout",
     "output_type": "stream",
     "text": [
      "(480, 640, 3)\n"
     ]
    }
   ],
   "source": [
    "img_list = sorted(glob.glob(args.input+'/train/*')) # list with path to all training images\n",
    "im = cv2.imread(img_list[0]) # import first image to get shape\n",
    "print(im.shape)"
   ]
  },
  {
   "cell_type": "code",
   "execution_count": 11,
   "metadata": {
    "colab": {
     "base_uri": "https://localhost:8080/"
    },
    "id": "WpjXjKo-P2Ak",
    "outputId": "e17cdf28-389d-46ca-ce35-1f90de4f80bb"
   },
   "outputs": [
    {
     "name": "stdout",
     "output_type": "stream",
     "text": [
      "(480, 640, 3)\n"
     ]
    }
   ],
   "source": [
    "# Prepare your validation dataset\n",
    "val_img_list = sorted(glob.glob(args.input + '/val/*'))\n",
    "val_im = cv2.imread(img_list[0]) # import first image to get shape\n",
    "print(val_im.shape)"
   ]
  },
  {
   "cell_type": "markdown",
   "metadata": {
    "id": "i3pKq5Z2ffyb"
   },
   "source": [
    "# Init model and set to train mode"
   ]
  },
  {
   "cell_type": "code",
   "execution_count": 12,
   "metadata": {
    "colab": {
     "base_uri": "https://localhost:8080/"
    },
    "id": "oyGp_PKbffyb",
    "outputId": "006828ac-7294-45ff-a34a-e25b31446326"
   },
   "outputs": [
    {
     "data": {
      "text/plain": [
       "MyNet(\n",
       "  (conv1): Conv2d(3, 8, kernel_size=(3, 3), stride=(1, 1), padding=(1, 1))\n",
       "  (bn1): BatchNorm2d(8, eps=1e-05, momentum=0.1, affine=True, track_running_stats=True)\n",
       "  (conv2): ModuleList(\n",
       "    (0): Conv2d(8, 8, kernel_size=(3, 3), stride=(1, 1), padding=(1, 1))\n",
       "  )\n",
       "  (bn2): ModuleList(\n",
       "    (0): BatchNorm2d(8, eps=1e-05, momentum=0.1, affine=True, track_running_stats=True)\n",
       "  )\n",
       "  (conv3): Conv2d(8, 8, kernel_size=(1, 1), stride=(1, 1))\n",
       "  (bn3): BatchNorm2d(8, eps=1e-05, momentum=0.1, affine=True, track_running_stats=True)\n",
       ")"
      ]
     },
     "execution_count": 12,
     "metadata": {},
     "output_type": "execute_result"
    }
   ],
   "source": [
    "model = MyNet(im.shape[2]) # im.shape[2] is the number of channels --> 3: RGB, 1: grayscale\n",
    "if use_cuda:\n",
    "    model.cuda()\n",
    "model.train()"
   ]
  },
  {
   "cell_type": "markdown",
   "metadata": {
    "id": "fMVuBnLHffyb"
   },
   "source": [
    "# Define the loss functions"
   ]
  },
  {
   "cell_type": "code",
   "execution_count": 13,
   "metadata": {
    "id": "Vd8S__l_ffyc"
   },
   "outputs": [],
   "source": [
    "# Similarity loss definition\n",
    "loss_fn = torch.nn.CrossEntropyLoss()\n",
    "\n",
    "# Continuity loss definition\n",
    "loss_hpy = torch.nn.L1Loss(reduction='mean')  # Use 'mean' for averaging\n",
    "loss_hpz = torch.nn.L1Loss(reduction='mean')  # Use 'mean' for averaging"
   ]
  },
  {
   "cell_type": "markdown",
   "metadata": {
    "id": "4Upy-6duffyc"
   },
   "source": [
    "# Define the optimizer"
   ]
  },
  {
   "cell_type": "code",
   "execution_count": 14,
   "metadata": {
    "id": "MmIRA9jtffyc"
   },
   "outputs": [],
   "source": [
    "optimizer = optim.SGD(model.parameters(),lr=args.lr,momentum=0.9)"
   ]
  },
  {
   "cell_type": "markdown",
   "metadata": {
    "id": "oDq77t8Iffyc"
   },
   "source": [
    "# Training the model and save it after each epoch"
   ]
  },
  {
   "cell_type": "markdown",
   "metadata": {
    "id": "8m_TLwNHffyc"
   },
   "source": [
    "* adjust learning rate ---> how can this be done?\n",
    "* delete the old models before training the new models"
   ]
  },
  {
   "cell_type": "code",
   "execution_count": 15,
   "metadata": {
    "colab": {
     "base_uri": "https://localhost:8080/"
    },
    "id": "9g_bWh-pffyc",
    "outputId": "4804f276-1d6b-4f8b-882b-7d9ef6998ee5",
    "scrolled": true
   },
   "outputs": [
    {
     "name": "stdout",
     "output_type": "stream",
     "text": [
      "Training epoch 1 of 50 started at 2023-11-23 16:40:48.781389\n"
     ]
    },
    {
     "name": "stderr",
     "output_type": "stream",
     "text": [
      "100%|███████████████████████████████████████████| 19/19 [07:06<00:00, 22.46s/it]\n",
      "/home/admin1/anaconda3/envs/joel_pt/lib/python3.11/site-packages/torch/nn/modules/loss.py:101: UserWarning: Using a target size (torch.Size([64, 223, 224, 8])) that is different to the input size (torch.Size([1, 223, 224, 8])). This will likely lead to incorrect results due to broadcasting. Please ensure they have the same size.\n",
      "  return F.l1_loss(input, target, reduction=self.reduction)\n",
      "/home/admin1/anaconda3/envs/joel_pt/lib/python3.11/site-packages/torch/nn/modules/loss.py:101: UserWarning: Using a target size (torch.Size([64, 224, 223, 8])) that is different to the input size (torch.Size([1, 224, 223, 8])). This will likely lead to incorrect results due to broadcasting. Please ensure they have the same size.\n",
      "  return F.l1_loss(input, target, reduction=self.reduction)\n"
     ]
    },
    {
     "name": "stdout",
     "output_type": "stream",
     "text": [
      "loss 1.7705614566802979\n",
      "Validation loss after epoch 1: 1.8829929402617158\n",
      "Training epoch 2 of 50 started at 2023-11-23 16:48:30.731600\n"
     ]
    },
    {
     "name": "stderr",
     "output_type": "stream",
     "text": [
      "100%|███████████████████████████████████████████| 19/19 [07:04<00:00, 22.33s/it]\n"
     ]
    },
    {
     "name": "stdout",
     "output_type": "stream",
     "text": [
      "loss 1.641782283782959\n",
      "Validation loss after epoch 2: 1.697002580322203\n",
      "Training epoch 3 of 50 started at 2023-11-23 16:56:10.720849\n"
     ]
    },
    {
     "name": "stderr",
     "output_type": "stream",
     "text": [
      "100%|███████████████████████████████████████████| 19/19 [07:05<00:00, 22.42s/it]\n"
     ]
    },
    {
     "name": "stdout",
     "output_type": "stream",
     "text": [
      "loss 1.5574501752853394\n",
      "Validation loss after epoch 3: 1.576013674892363\n",
      "Training epoch 4 of 50 started at 2023-11-23 17:03:52.323316\n"
     ]
    },
    {
     "name": "stderr",
     "output_type": "stream",
     "text": [
      "100%|███████████████████████████████████████████| 19/19 [07:04<00:00, 22.36s/it]\n"
     ]
    },
    {
     "name": "stdout",
     "output_type": "stream",
     "text": [
      "loss 1.4798221588134766\n",
      "Validation loss after epoch 4: 1.466236687097393\n",
      "Training epoch 5 of 50 started at 2023-11-23 17:11:32.792213\n"
     ]
    },
    {
     "name": "stderr",
     "output_type": "stream",
     "text": [
      "100%|███████████████████████████████████████████| 19/19 [07:04<00:00, 22.33s/it]\n"
     ]
    },
    {
     "name": "stdout",
     "output_type": "stream",
     "text": [
      "loss 1.405470371246338\n",
      "Validation loss after epoch 5: 1.3752521032192668\n",
      "Training epoch 6 of 50 started at 2023-11-23 17:19:12.581184\n"
     ]
    },
    {
     "name": "stderr",
     "output_type": "stream",
     "text": [
      "100%|███████████████████████████████████████████| 19/19 [07:04<00:00, 22.33s/it]\n"
     ]
    },
    {
     "name": "stdout",
     "output_type": "stream",
     "text": [
      "loss 1.3362462520599365\n",
      "Validation loss after epoch 6: 1.3037385647414161\n",
      "Training epoch 7 of 50 started at 2023-11-23 17:26:52.516665\n"
     ]
    },
    {
     "name": "stderr",
     "output_type": "stream",
     "text": [
      "100%|███████████████████████████████████████████| 19/19 [07:04<00:00, 22.36s/it]\n"
     ]
    },
    {
     "name": "stdout",
     "output_type": "stream",
     "text": [
      "loss 1.2828640937805176\n",
      "Validation loss after epoch 7: 1.2495852841705573\n",
      "Training epoch 8 of 50 started at 2023-11-23 17:34:32.846211\n"
     ]
    },
    {
     "name": "stderr",
     "output_type": "stream",
     "text": [
      "100%|███████████████████████████████████████████| 19/19 [07:03<00:00, 22.30s/it]\n"
     ]
    },
    {
     "name": "stdout",
     "output_type": "stream",
     "text": [
      "loss 1.238231897354126\n",
      "Validation loss after epoch 8: 1.2031700058061567\n",
      "Training epoch 9 of 50 started at 2023-11-23 17:42:12.160072\n"
     ]
    },
    {
     "name": "stderr",
     "output_type": "stream",
     "text": [
      "100%|███████████████████████████████████████████| 19/19 [07:03<00:00, 22.31s/it]\n"
     ]
    },
    {
     "name": "stdout",
     "output_type": "stream",
     "text": [
      "loss 1.2003819942474365\n",
      "Validation loss after epoch 9: 1.1633600948286837\n",
      "Training epoch 10 of 50 started at 2023-11-23 17:49:51.544771\n"
     ]
    },
    {
     "name": "stderr",
     "output_type": "stream",
     "text": [
      "100%|███████████████████████████████████████████| 19/19 [07:03<00:00, 22.31s/it]\n"
     ]
    },
    {
     "name": "stdout",
     "output_type": "stream",
     "text": [
      "loss 1.1674919128417969\n",
      "Validation loss after epoch 10: 1.1286267710513755\n",
      "Training epoch 11 of 50 started at 2023-11-23 17:57:31.011256\n"
     ]
    },
    {
     "name": "stderr",
     "output_type": "stream",
     "text": [
      "100%|███████████████████████████████████████████| 19/19 [07:04<00:00, 22.34s/it]\n"
     ]
    },
    {
     "name": "stdout",
     "output_type": "stream",
     "text": [
      "loss 1.1383178234100342\n",
      "Validation loss after epoch 11: 1.0978137134528552\n",
      "Training epoch 12 of 50 started at 2023-11-23 18:05:10.917920\n"
     ]
    },
    {
     "name": "stderr",
     "output_type": "stream",
     "text": [
      "100%|███████████████████████████████████████████| 19/19 [07:04<00:00, 22.33s/it]\n"
     ]
    },
    {
     "name": "stdout",
     "output_type": "stream",
     "text": [
      "loss 1.1118872165679932\n",
      "Validation loss after epoch 12: 1.0700973965105463\n",
      "Training epoch 13 of 50 started at 2023-11-23 18:12:50.575986\n"
     ]
    },
    {
     "name": "stderr",
     "output_type": "stream",
     "text": [
      "100%|███████████████████████████████████████████| 19/19 [07:03<00:00, 22.31s/it]\n"
     ]
    },
    {
     "name": "stdout",
     "output_type": "stream",
     "text": [
      "loss 1.0875189304351807\n",
      "Validation loss after epoch 13: 1.044863509056998\n",
      "Training epoch 14 of 50 started at 2023-11-23 18:20:30.188999\n"
     ]
    },
    {
     "name": "stderr",
     "output_type": "stream",
     "text": [
      "100%|███████████████████████████████████████████| 19/19 [07:03<00:00, 22.31s/it]\n"
     ]
    },
    {
     "name": "stdout",
     "output_type": "stream",
     "text": [
      "loss 1.0648033618927002\n",
      "Validation loss after epoch 14: 1.0216674318079089\n",
      "Training epoch 15 of 50 started at 2023-11-23 18:28:09.606144\n"
     ]
    },
    {
     "name": "stderr",
     "output_type": "stream",
     "text": [
      "100%|███████████████████████████████████████████| 19/19 [07:03<00:00, 22.30s/it]\n"
     ]
    },
    {
     "name": "stdout",
     "output_type": "stream",
     "text": [
      "loss 1.0435686111450195\n",
      "Validation loss after epoch 15: 1.0003819666925025\n",
      "Training epoch 16 of 50 started at 2023-11-23 18:35:48.850458\n"
     ]
    },
    {
     "name": "stderr",
     "output_type": "stream",
     "text": [
      "100%|███████████████████████████████████████████| 19/19 [07:03<00:00, 22.31s/it]\n"
     ]
    },
    {
     "name": "stdout",
     "output_type": "stream",
     "text": [
      "loss 1.023597002029419\n",
      "Validation loss after epoch 16: 0.9809100802804603\n",
      "Training epoch 17 of 50 started at 2023-11-23 18:43:28.241387\n"
     ]
    },
    {
     "name": "stderr",
     "output_type": "stream",
     "text": [
      "100%|███████████████████████████████████████████| 19/19 [07:04<00:00, 22.32s/it]\n"
     ]
    },
    {
     "name": "stdout",
     "output_type": "stream",
     "text": [
      "loss 1.0048648118972778\n",
      "Validation loss after epoch 17: 0.9634829278852118\n",
      "Training epoch 18 of 50 started at 2023-11-23 18:51:07.785997\n"
     ]
    },
    {
     "name": "stderr",
     "output_type": "stream",
     "text": [
      "100%|███████████████████████████████████████████| 19/19 [07:03<00:00, 22.30s/it]\n"
     ]
    },
    {
     "name": "stdout",
     "output_type": "stream",
     "text": [
      "loss 0.9877816438674927\n",
      "Validation loss after epoch 18: 0.9477819383144379\n",
      "Training epoch 19 of 50 started at 2023-11-23 18:58:47.016295\n"
     ]
    },
    {
     "name": "stderr",
     "output_type": "stream",
     "text": [
      "100%|███████████████████████████████████████████| 19/19 [07:04<00:00, 22.32s/it]\n"
     ]
    },
    {
     "name": "stdout",
     "output_type": "stream",
     "text": [
      "loss 0.9716542363166809\n",
      "Validation loss after epoch 19: 0.932847065417493\n",
      "Training epoch 20 of 50 started at 2023-11-23 19:06:26.627782\n"
     ]
    },
    {
     "name": "stderr",
     "output_type": "stream",
     "text": [
      "100%|███████████████████████████████████████████| 19/19 [07:04<00:00, 22.32s/it]\n"
     ]
    },
    {
     "name": "stdout",
     "output_type": "stream",
     "text": [
      "loss 0.9569253325462341\n",
      "Validation loss after epoch 20: 0.9194595553835885\n",
      "Training epoch 21 of 50 started at 2023-11-23 19:14:06.234832\n"
     ]
    },
    {
     "name": "stderr",
     "output_type": "stream",
     "text": [
      "100%|███████████████████████████████████████████| 19/19 [07:04<00:00, 22.33s/it]\n"
     ]
    },
    {
     "name": "stdout",
     "output_type": "stream",
     "text": [
      "loss 0.9430736303329468\n",
      "Validation loss after epoch 21: 0.9071629224253482\n",
      "Training epoch 22 of 50 started at 2023-11-23 19:21:46.135072\n"
     ]
    },
    {
     "name": "stderr",
     "output_type": "stream",
     "text": [
      "100%|███████████████████████████████████████████| 19/19 [07:04<00:00, 22.32s/it]\n"
     ]
    },
    {
     "name": "stdout",
     "output_type": "stream",
     "text": [
      "loss 0.9300087690353394\n",
      "Validation loss after epoch 22: 0.8958410828817086\n",
      "Training epoch 23 of 50 started at 2023-11-23 19:29:25.814118\n"
     ]
    },
    {
     "name": "stderr",
     "output_type": "stream",
     "text": [
      "100%|███████████████████████████████████████████| 19/19 [07:04<00:00, 22.33s/it]\n"
     ]
    },
    {
     "name": "stdout",
     "output_type": "stream",
     "text": [
      "loss 0.917657732963562\n",
      "Validation loss after epoch 23: 0.885291600227356\n",
      "Training epoch 24 of 50 started at 2023-11-23 19:37:05.670470\n"
     ]
    },
    {
     "name": "stderr",
     "output_type": "stream",
     "text": [
      "100%|███████████████████████████████████████████| 19/19 [07:04<00:00, 22.32s/it]\n"
     ]
    },
    {
     "name": "stdout",
     "output_type": "stream",
     "text": [
      "loss 0.9059634208679199\n",
      "Validation loss after epoch 24: 0.8754672714921294\n",
      "Training epoch 25 of 50 started at 2023-11-23 19:44:45.188955\n"
     ]
    },
    {
     "name": "stderr",
     "output_type": "stream",
     "text": [
      "100%|███████████████████████████████████████████| 19/19 [07:04<00:00, 22.34s/it]\n"
     ]
    },
    {
     "name": "stdout",
     "output_type": "stream",
     "text": [
      "loss 0.8947954177856445\n",
      "Validation loss after epoch 25: 0.8662561474276371\n",
      "Training epoch 26 of 50 started at 2023-11-23 19:52:25.188055\n"
     ]
    },
    {
     "name": "stderr",
     "output_type": "stream",
     "text": [
      "100%|███████████████████████████████████████████| 19/19 [07:04<00:00, 22.32s/it]\n"
     ]
    },
    {
     "name": "stdout",
     "output_type": "stream",
     "text": [
      "loss 0.8841392397880554\n",
      "Validation loss after epoch 26: 0.8575896707714581\n",
      "Training epoch 27 of 50 started at 2023-11-23 20:00:05.089673\n"
     ]
    },
    {
     "name": "stderr",
     "output_type": "stream",
     "text": [
      "100%|███████████████████████████████████████████| 19/19 [07:04<00:00, 22.32s/it]\n"
     ]
    },
    {
     "name": "stdout",
     "output_type": "stream",
     "text": [
      "loss 0.8738701343536377\n",
      "Validation loss after epoch 27: 0.8493742479652655\n",
      "Training epoch 28 of 50 started at 2023-11-23 20:07:44.637943\n"
     ]
    },
    {
     "name": "stderr",
     "output_type": "stream",
     "text": [
      "100%|███████████████████████████████████████████| 19/19 [07:04<00:00, 22.34s/it]\n"
     ]
    },
    {
     "name": "stdout",
     "output_type": "stream",
     "text": [
      "loss 0.8640000820159912\n",
      "Validation loss after epoch 28: 0.8416654270203388\n",
      "Training epoch 29 of 50 started at 2023-11-23 20:15:24.710058\n"
     ]
    },
    {
     "name": "stderr",
     "output_type": "stream",
     "text": [
      "100%|███████████████████████████████████████████| 19/19 [07:04<00:00, 22.34s/it]\n"
     ]
    },
    {
     "name": "stdout",
     "output_type": "stream",
     "text": [
      "loss 0.8543474674224854\n",
      "Validation loss after epoch 29: 0.834324702767075\n",
      "Training epoch 30 of 50 started at 2023-11-23 20:23:04.758438\n"
     ]
    },
    {
     "name": "stderr",
     "output_type": "stream",
     "text": [
      "100%|███████████████████████████████████████████| 19/19 [07:04<00:00, 22.35s/it]\n"
     ]
    },
    {
     "name": "stdout",
     "output_type": "stream",
     "text": [
      "loss 0.8449907302856445\n",
      "Validation loss after epoch 30: 0.8274526326382746\n",
      "Training epoch 31 of 50 started at 2023-11-23 20:30:44.811985\n"
     ]
    },
    {
     "name": "stderr",
     "output_type": "stream",
     "text": [
      "100%|███████████████████████████████████████████| 19/19 [07:05<00:00, 22.37s/it]\n"
     ]
    },
    {
     "name": "stdout",
     "output_type": "stream",
     "text": [
      "loss 0.8356976509094238\n",
      "Validation loss after epoch 31: 0.820612272962195\n",
      "Training epoch 32 of 50 started at 2023-11-23 20:38:25.299324\n"
     ]
    },
    {
     "name": "stderr",
     "output_type": "stream",
     "text": [
      "100%|███████████████████████████████████████████| 19/19 [07:05<00:00, 22.37s/it]\n"
     ]
    },
    {
     "name": "stdout",
     "output_type": "stream",
     "text": [
      "loss 0.8264480829238892\n",
      "Validation loss after epoch 32: 0.8138806551206307\n",
      "Training epoch 33 of 50 started at 2023-11-23 20:46:06.139988\n"
     ]
    },
    {
     "name": "stderr",
     "output_type": "stream",
     "text": [
      "100%|███████████████████████████████████████████| 19/19 [07:05<00:00, 22.39s/it]\n"
     ]
    },
    {
     "name": "stdout",
     "output_type": "stream",
     "text": [
      "loss 0.8172814249992371\n",
      "Validation loss after epoch 33: 0.807187180440934\n",
      "Training epoch 34 of 50 started at 2023-11-23 20:53:47.022241\n"
     ]
    },
    {
     "name": "stderr",
     "output_type": "stream",
     "text": [
      "100%|███████████████████████████████████████████| 19/19 [07:05<00:00, 22.38s/it]\n"
     ]
    },
    {
     "name": "stdout",
     "output_type": "stream",
     "text": [
      "loss 0.8081743717193604\n",
      "Validation loss after epoch 34: 0.80039722606784\n",
      "Training epoch 35 of 50 started at 2023-11-23 21:01:28.093362\n"
     ]
    },
    {
     "name": "stderr",
     "output_type": "stream",
     "text": [
      "100%|███████████████████████████████████████████| 19/19 [07:05<00:00, 22.37s/it]\n"
     ]
    },
    {
     "name": "stdout",
     "output_type": "stream",
     "text": [
      "loss 0.7991108894348145\n",
      "Validation loss after epoch 35: 0.793451337736161\n",
      "Training epoch 36 of 50 started at 2023-11-23 21:09:08.612193\n"
     ]
    },
    {
     "name": "stderr",
     "output_type": "stream",
     "text": [
      "100%|███████████████████████████████████████████| 19/19 [07:05<00:00, 22.38s/it]\n"
     ]
    },
    {
     "name": "stdout",
     "output_type": "stream",
     "text": [
      "loss 0.7903209924697876\n",
      "Validation loss after epoch 36: 0.7866180710128097\n",
      "Training epoch 37 of 50 started at 2023-11-23 21:16:49.332215\n"
     ]
    },
    {
     "name": "stderr",
     "output_type": "stream",
     "text": [
      "100%|███████████████████████████████████████████| 19/19 [07:05<00:00, 22.39s/it]\n"
     ]
    },
    {
     "name": "stdout",
     "output_type": "stream",
     "text": [
      "loss 0.7815856337547302\n",
      "Validation loss after epoch 37: 0.7797225566183934\n",
      "Training epoch 38 of 50 started at 2023-11-23 21:24:30.466620\n"
     ]
    },
    {
     "name": "stderr",
     "output_type": "stream",
     "text": [
      "100%|███████████████████████████████████████████| 19/19 [07:05<00:00, 22.40s/it]\n"
     ]
    },
    {
     "name": "stdout",
     "output_type": "stream",
     "text": [
      "loss 0.7729692459106445\n",
      "Validation loss after epoch 38: 0.7728352358106707\n",
      "Training epoch 39 of 50 started at 2023-11-23 21:32:11.561167\n"
     ]
    },
    {
     "name": "stderr",
     "output_type": "stream",
     "text": [
      "100%|███████████████████████████████████████████| 19/19 [07:06<00:00, 22.43s/it]\n"
     ]
    },
    {
     "name": "stdout",
     "output_type": "stream",
     "text": [
      "loss 0.7637073993682861\n",
      "Validation loss after epoch 39: 0.765009963023858\n",
      "Training epoch 40 of 50 started at 2023-11-23 21:39:53.191346\n"
     ]
    },
    {
     "name": "stderr",
     "output_type": "stream",
     "text": [
      "100%|███████████████████████████████████████████| 19/19 [07:06<00:00, 22.43s/it]\n"
     ]
    },
    {
     "name": "stdout",
     "output_type": "stream",
     "text": [
      "loss 0.7540671825408936\n",
      "Validation loss after epoch 40: 0.7566530512004602\n",
      "Training epoch 41 of 50 started at 2023-11-23 21:47:34.930448\n"
     ]
    },
    {
     "name": "stderr",
     "output_type": "stream",
     "text": [
      "100%|███████████████████████████████████████████| 19/19 [07:05<00:00, 22.42s/it]\n"
     ]
    },
    {
     "name": "stdout",
     "output_type": "stream",
     "text": [
      "loss 0.7456033229827881\n",
      "Validation loss after epoch 41: 0.7495556950569153\n",
      "Training epoch 42 of 50 started at 2023-11-23 21:55:16.447159\n"
     ]
    },
    {
     "name": "stderr",
     "output_type": "stream",
     "text": [
      "100%|███████████████████████████████████████████| 19/19 [07:06<00:00, 22.44s/it]\n"
     ]
    },
    {
     "name": "stdout",
     "output_type": "stream",
     "text": [
      "loss 0.7370635271072388\n",
      "Validation loss after epoch 42: 0.7421350553387501\n",
      "Training epoch 43 of 50 started at 2023-11-23 22:02:58.274080\n"
     ]
    },
    {
     "name": "stderr",
     "output_type": "stream",
     "text": [
      "100%|███████████████████████████████████████████| 19/19 [07:06<00:00, 22.45s/it]\n"
     ]
    },
    {
     "name": "stdout",
     "output_type": "stream",
     "text": [
      "loss 0.729084849357605\n",
      "Validation loss after epoch 43: 0.735185694499094\n",
      "Training epoch 44 of 50 started at 2023-11-23 22:10:40.391150\n"
     ]
    },
    {
     "name": "stderr",
     "output_type": "stream",
     "text": [
      "100%|███████████████████████████████████████████| 19/19 [07:06<00:00, 22.45s/it]\n"
     ]
    },
    {
     "name": "stdout",
     "output_type": "stream",
     "text": [
      "loss 0.7211624383926392\n",
      "Validation loss after epoch 44: 0.7282306575384296\n",
      "Training epoch 45 of 50 started at 2023-11-23 22:18:22.705835\n"
     ]
    },
    {
     "name": "stderr",
     "output_type": "stream",
     "text": [
      "100%|███████████████████████████████████████████| 19/19 [07:06<00:00, 22.46s/it]\n"
     ]
    },
    {
     "name": "stdout",
     "output_type": "stream",
     "text": [
      "loss 0.7129763960838318\n",
      "Validation loss after epoch 45: 0.7211231481833537\n",
      "Training epoch 46 of 50 started at 2023-11-23 22:26:05.129525\n"
     ]
    },
    {
     "name": "stderr",
     "output_type": "stream",
     "text": [
      "100%|███████████████████████████████████████████| 19/19 [07:07<00:00, 22.48s/it]\n"
     ]
    },
    {
     "name": "stdout",
     "output_type": "stream",
     "text": [
      "loss 0.7037408351898193\n",
      "Validation loss after epoch 46: 0.7131308430042423\n",
      "Training epoch 47 of 50 started at 2023-11-23 22:33:47.922671\n"
     ]
    },
    {
     "name": "stderr",
     "output_type": "stream",
     "text": [
      "100%|███████████████████████████████████████████| 19/19 [07:07<00:00, 22.48s/it]\n"
     ]
    },
    {
     "name": "stdout",
     "output_type": "stream",
     "text": [
      "loss 0.6949008703231812\n",
      "Validation loss after epoch 47: 0.70562964150163\n",
      "Training epoch 48 of 50 started at 2023-11-23 22:41:30.662654\n"
     ]
    },
    {
     "name": "stderr",
     "output_type": "stream",
     "text": [
      "100%|███████████████████████████████████████████| 19/19 [07:06<00:00, 22.47s/it]\n"
     ]
    },
    {
     "name": "stdout",
     "output_type": "stream",
     "text": [
      "loss 0.6864389777183533\n",
      "Validation loss after epoch 48: 0.6981648402624443\n",
      "Training epoch 49 of 50 started at 2023-11-23 22:49:13.392067\n"
     ]
    },
    {
     "name": "stderr",
     "output_type": "stream",
     "text": [
      "100%|███████████████████████████████████████████| 19/19 [07:07<00:00, 22.48s/it]\n"
     ]
    },
    {
     "name": "stdout",
     "output_type": "stream",
     "text": [
      "loss 0.6776639223098755\n",
      "Validation loss after epoch 49: 0.6901867418015589\n",
      "Training epoch 50 of 50 started at 2023-11-23 22:56:56.045189\n"
     ]
    },
    {
     "name": "stderr",
     "output_type": "stream",
     "text": [
      "100%|███████████████████████████████████████████| 19/19 [07:07<00:00, 22.49s/it]\n"
     ]
    },
    {
     "name": "stdout",
     "output_type": "stream",
     "text": [
      "loss 0.6680334806442261\n",
      "Validation loss after epoch 50: 0.6817011634834477\n"
     ]
    }
   ],
   "source": [
    "loss_tracking = [[],[],[],[]]\n",
    "loss_tracking[0].append(\"epoch_number\")\n",
    "loss_tracking[1].append(\"index_number\")\n",
    "loss_tracking[2].append(\"loop_number\")\n",
    "loss_tracking[3].append(\"loss\")\n",
    "\n",
    "\n",
    "# Initialize empty lists for loss tracking\n",
    "training_losses = []\n",
    "validation_losses = []\n",
    "\n",
    "# Validation loop\n",
    "best_val_loss = float('inf')\n",
    "\n",
    "for epoch in range(args.epoch):\n",
    "    print(f'Training epoch {epoch + 1} of {args.epoch} started at {datetime.datetime.now()}')\n",
    "\n",
    "    for im_file in tqdm.tqdm(range(int(len(img_list)/args.batch_size))): # numper of iterations per epoch\n",
    "        # e.g 100 images and batch_size 10, then 10 iterations\n",
    "\n",
    "        im = [] # list to store images\n",
    "        for batch_count in range(args.batch_size):\n",
    "            # load image\n",
    "            resized_im = cv2.imread(img_list[args.batch_size*im_file + batch_count])\n",
    "            resized_im = cv2.resize(resized_im, dsize=(args.imsize[0],args.imsize[1])) # add to config file\n",
    "            resized_im = resized_im.transpose((2,0,1)).astype('float32')/255.\n",
    "            im.append(resized_im)\n",
    "\n",
    "        for loop in range(args.maxUpdate): # number of loops per iteration\n",
    "\n",
    "            data = torch.from_numpy(np.array(im)) # convert numpy list to tensor\n",
    "            if use_cuda:\n",
    "                data = data.cuda()\n",
    "\n",
    "            # not sure what the code below does\n",
    "            data = Variable(data)\n",
    "\n",
    "            HPy_target = torch.zeros(data.shape[0],resized_im.shape[1]-1,resized_im.shape[2],args.nChannel)\n",
    "            HPz_target = torch.zeros(data.shape[0],resized_im.shape[1],resized_im.shape[2]-1,args.nChannel)\n",
    "            if use_cuda:\n",
    "                HPy_target = HPy_target.cuda()\n",
    "                HPz_target = HPz_target.cuda()\n",
    "\n",
    "            # forwarding\n",
    "            optimizer.zero_grad()\n",
    "            output = model(data)\n",
    "            output = output.permute(0,2,3,1).contiguous().view(data.shape[0],-1,args.nChannel)\n",
    "\n",
    "            outputHP = output.reshape((data.shape[0],resized_im.shape[1],resized_im.shape[2],args.nChannel))\n",
    "\n",
    "            HPy = outputHP[:,1:,:,:] - outputHP[:,0:-1,:,:]\n",
    "            HPz = outputHP[:,:,1:,:] - outputHP[:,:,0:-1,:]\n",
    "            lhpy = loss_hpy(HPy,HPy_target)\n",
    "            lhpz = loss_hpz(HPz,HPz_target)\n",
    "\n",
    "            output = output.reshape(output.shape[0]*output.shape[1],-1)\n",
    "            ignore,target = torch.max(output,1)\n",
    "\n",
    "            loss = args.stepsize_sim*loss_fn(output,target)+args.stepsize_con*(lhpy+lhpz)\n",
    "            loss.backward()\n",
    "            loss_tracking[0].append(epoch)\n",
    "            loss_tracking[1].append(im_file)\n",
    "            loss_tracking[2].append(loop)\n",
    "            loss_tracking[3].append(loss.item())\n",
    "            optimizer.step()\n",
    "\n",
    "    print(\"loss\", loss.item())\n",
    "\n",
    "        # Validation loop\n",
    "    model.eval()  # Set the model to evaluation mode\n",
    "    total_val_loss = 0.0\n",
    "\n",
    "    with torch.no_grad():  # Disable gradient calculation for validation\n",
    "        for val_file in val_img_list:\n",
    "            val_im = cv2.imread(val_file)\n",
    "            val_im = cv2.resize(val_im, dsize=(args.imsize[0], args.imsize[1]))\n",
    "            val_im = val_im.transpose((2, 0, 1)).astype('float32') / 255.\n",
    "            val_data = torch.from_numpy(np.array([val_im]))\n",
    "            if use_cuda:\n",
    "                val_data = val_data.cuda()\n",
    "            val_data = Variable(val_data)\n",
    "\n",
    "            val_output = model(val_data)\n",
    "            val_output = val_output.permute(0, 2, 3, 1).contiguous().view(val_data.shape[0], -1, args.nChannel)\n",
    "\n",
    "            val_outputHP = val_output.reshape((val_data.shape[0], resized_im.shape[1], resized_im.shape[2], args.nChannel))\n",
    "\n",
    "            HPy_val = val_outputHP[:, 1:, :, :] - val_outputHP[:, 0:-1, :, :]\n",
    "            HPz_val = val_outputHP[:, :, 1:, :] - val_outputHP[:, :, 0:-1, :]\n",
    "            lhpy_val = loss_hpy(HPy_val, HPy_target)\n",
    "            lhpz_val = loss_hpz(HPz_val, HPz_target)\n",
    "\n",
    "            val_output = val_output.reshape(val_output.shape[0] * val_output.shape[1], -1)\n",
    "            ignore, val_target = torch.max(val_output, 1)\n",
    "\n",
    "            val_loss = args.stepsize_sim * loss_fn(val_output, val_target) + args.stepsize_con * (lhpy_val + lhpz_val)\n",
    "            total_val_loss += val_loss.item()\n",
    "\n",
    "\n",
    "\n",
    "    average_val_loss = total_val_loss / len(val_img_list)\n",
    "    print(f'Validation loss after epoch {epoch + 1}: {average_val_loss}')\n",
    "\n",
    "\n",
    "\n",
    "    # Append training and validation loss to respective lists\n",
    "    training_losses.append(loss.item())\n",
    "    validation_losses.append(average_val_loss)\n",
    "\n",
    "    # Save the model if it has the best validation loss\n",
    "    #if average_val_loss < best_val_loss:\n",
    "        #best_val_loss = average_val_loss\n",
    "        #torch.save(model.state_dict(), os.path.join(args.input, args.model_safename + '.pth'))\n",
    "\n",
    "    # Set the model back to training mode\n",
    "    model.train()\n",
    "\n",
    "#save model after training --> # change the name of the model, maybe add the name to the config file\n",
    "torch.save(model.state_dict(),os.path.join(args.input,args.model_safename+'.pth'))"
   ]
  },
  {
   "cell_type": "code",
   "execution_count": 16,
   "metadata": {
    "id": "014H4GwA2kyw"
   },
   "outputs": [
    {
     "data": {
      "text/plain": [
       "\"import matplotlib.pyplot as plt\\n\\n# Extract the loss values from the loss_tracking list\\nepochs = loss_tracking[0][1:]  # Exclude the header\\nbatches = loss_tracking[1][1:]\\nloops = loss_tracking[2][1:]\\nloss_values = loss_tracking[3][1:]\\n\\n# Create a scatter plot of loss values\\nplt.scatter(range(len(loss_values)), loss_values, s=5, c='blue', alpha=0.5)\\nplt.xlabel('Training Iterations')\\nplt.ylabel('Loss')\\nplt.title('Loss Function During Training')\\n\\n# Optionally, you can customize the x-axis labels based on epochs, batches, and loops\\n# For example:\\n# x_ticks = [f'Epoch {e}, Batch {b}, Loop {l}' for e, b, l in zip(epochs, batches, loops)]\\n# plt.xticks(range(len(loss_values)), x_ticks, rotation=45)\\n\\nplt.show()\\n\""
      ]
     },
     "execution_count": 16,
     "metadata": {},
     "output_type": "execute_result"
    }
   ],
   "source": [
    "'''import matplotlib.pyplot as plt\n",
    "\n",
    "# Extract the loss values from the loss_tracking list\n",
    "epochs = loss_tracking[0][1:]  # Exclude the header\n",
    "batches = loss_tracking[1][1:]\n",
    "loops = loss_tracking[2][1:]\n",
    "loss_values = loss_tracking[3][1:]\n",
    "\n",
    "# Create a scatter plot of loss values\n",
    "plt.scatter(range(len(loss_values)), loss_values, s=5, c='blue', alpha=0.5)\n",
    "plt.xlabel('Training Iterations')\n",
    "plt.ylabel('Loss')\n",
    "plt.title('Loss Function During Training')\n",
    "\n",
    "# Optionally, you can customize the x-axis labels based on epochs, batches, and loops\n",
    "# For example:\n",
    "# x_ticks = [f'Epoch {e}, Batch {b}, Loop {l}' for e, b, l in zip(epochs, batches, loops)]\n",
    "# plt.xticks(range(len(loss_values)), x_ticks, rotation=45)\n",
    "\n",
    "plt.show()\n",
    "'''"
   ]
  },
  {
   "cell_type": "code",
   "execution_count": 17,
   "metadata": {
    "id": "yTXS2Kcb0XZP"
   },
   "outputs": [
    {
     "data": {
      "text/plain": [
       "\"\\nimport matplotlib.pyplot as plt\\n\\n# Assuming you have collected the loss values for each iteration in loss_tracking\\nloss_values = loss_tracking[3][1:]  # Exclude the header row\\n\\n# Convert the loss values to floats\\nloss_values = [float(loss) for loss in loss_values]\\nnum_iterations_per_epoch=534\\n# Assuming you know the number of iterations per epoch (e.g., num_iterations_per_epoch)\\nnum_epochs = len(loss_values) // num_iterations_per_epoch\\n\\n# Calculate the average loss for each epoch\\nepoch_losses = []\\nfor epoch in range(num_epochs):\\n    start_idx = epoch * num_iterations_per_epoch\\n    end_idx = start_idx + num_iterations_per_epoch\\n    epoch_loss = sum(loss_values[start_idx:end_idx]) / num_iterations_per_epoch\\n    epoch_losses.append(epoch_loss)\\n\\n# Generate the x-axis values (epochs)\\nepochs = range(1, num_epochs + 1)\\n\\n# Plot the training loss vs. epoch\\nplt.figure(figsize=(10, 6))\\nplt.plot(epochs, epoch_losses, marker='o', linestyle='-', color='b')\\nplt.xlabel('Epoch')\\nplt.ylabel('Training Loss')\\nplt.title('Training Loss vs. Epoch')\\nplt.grid(True)\\nplt.show()\\n\""
      ]
     },
     "execution_count": 17,
     "metadata": {},
     "output_type": "execute_result"
    }
   ],
   "source": [
    "'''\n",
    "import matplotlib.pyplot as plt\n",
    "\n",
    "# Assuming you have collected the loss values for each iteration in loss_tracking\n",
    "loss_values = loss_tracking[3][1:]  # Exclude the header row\n",
    "\n",
    "# Convert the loss values to floats\n",
    "loss_values = [float(loss) for loss in loss_values]\n",
    "num_iterations_per_epoch=534\n",
    "# Assuming you know the number of iterations per epoch (e.g., num_iterations_per_epoch)\n",
    "num_epochs = len(loss_values) // num_iterations_per_epoch\n",
    "\n",
    "# Calculate the average loss for each epoch\n",
    "epoch_losses = []\n",
    "for epoch in range(num_epochs):\n",
    "    start_idx = epoch * num_iterations_per_epoch\n",
    "    end_idx = start_idx + num_iterations_per_epoch\n",
    "    epoch_loss = sum(loss_values[start_idx:end_idx]) / num_iterations_per_epoch\n",
    "    epoch_losses.append(epoch_loss)\n",
    "\n",
    "# Generate the x-axis values (epochs)\n",
    "epochs = range(1, num_epochs + 1)\n",
    "\n",
    "# Plot the training loss vs. epoch\n",
    "plt.figure(figsize=(10, 6))\n",
    "plt.plot(epochs, epoch_losses, marker='o', linestyle='-', color='b')\n",
    "plt.xlabel('Epoch')\n",
    "plt.ylabel('Training Loss')\n",
    "plt.title('Training Loss vs. Epoch')\n",
    "plt.grid(True)\n",
    "plt.show()\n",
    "'''"
   ]
  },
  {
   "cell_type": "code",
   "execution_count": 18,
   "metadata": {
    "id": "qSKomstv5E-2"
   },
   "outputs": [
    {
     "data": {
      "image/png": "[encoded data removed]",
      "text/plain": [
       "<Figure size 1000x500 with 1 Axes>"
      ]
     },
     "metadata": {},
     "output_type": "display_data"
    }
   ],
   "source": [
    "import matplotlib.pyplot as plt\n",
    "\n",
    "# Create a plot of epoch vs. training and validation loss\n",
    "plt.figure(figsize=(10, 5))\n",
    "plt.plot(range(1, args.epoch + 1), training_losses, label='Training Loss', marker='o')\n",
    "plt.plot(range(1, args.epoch + 1), validation_losses, label='Validation Loss', marker='o')\n",
    "plt.xlabel('Epoch')\n",
    "plt.ylabel('Loss')\n",
    "plt.title('Training and Validation Loss Over Epochs')\n",
    "plt.legend()\n",
    "plt.grid(True)\n",
    "plt.show()"
   ]
  }
 ],
 "metadata": {
  "accelerator": "GPU",
  "colab": {
   "provenance": []
  },
  "kernelspec": {
   "display_name": "Python 3 (ipykernel)",
   "language": "python",
   "name": "python3"
  },
  "language_info": {
   "codemirror_mode": {
    "name": "ipython",
    "version": 3
   },
   "file_extension": ".py",
   "mimetype": "text/x-python",
   "name": "python",
   "nbconvert_exporter": "python",
   "pygments_lexer": "ipython3",
   "version": "3.11.5"
  }
 },
 "nbformat": 4,
 "nbformat_minor": 4
}
